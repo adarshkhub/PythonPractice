{
 "cells": [
  {
   "cell_type": "code",
   "execution_count": null,
   "id": "7ab5c31b",
   "metadata": {},
   "outputs": [],
   "source": [
    "#To extract all the unique species of penguins who are males and who have flippers longer than 210 mm,\n",
    "#we would need the following code in pandas:\n",
    "\n",
    "penguins[(penguins['sex'] == 'Male') & (penguins['flipper_length_mm'] > 210)]['species'].unique()"
   ]
  },
  {
   "cell_type": "code",
   "execution_count": null,
   "id": "8b241a0e",
   "metadata": {},
   "outputs": [],
   "source": [
    "+-------------+---------+\n",
    "| Column Name | Type    |\n",
    "+-------------+---------+\n",
    "| product_id  | int     |\n",
    "| low_fats    | enum    |\n",
    "| recyclable  | enum    |\n",
    "+-------------+---------+\n",
    "product_id is the primary key (column with unique values) for this table.\n",
    "low_fats is an ENUM (category) of type ('Y', 'N') where 'Y' means this product is low fat and 'N' means it is not.\n",
    "recyclable is an ENUM (category) of types ('Y', 'N') where 'Y' means this product is recyclable and 'N' means it is not."
   ]
  },
  {
   "cell_type": "code",
   "execution_count": null,
   "id": "20607c65",
   "metadata": {},
   "outputs": [],
   "source": [
    "Write a solution to find the ids of products that are both low fat and recyclable.\n",
    "\n",
    "Return the result table in any order.\n",
    "\n",
    "The result format is in the following example.\n",
    "\n",
    "\n",
    "\n",
    "import pandas as pd\n",
    "\n",
    "def find_products(products: pd.DataFrame) -> pd.DataFrame:\n",
    "    return products[(products[\"low_fats\"] == 'Y')] & (products[\"recyclable\"] == 'Y')"
   ]
  }
 ],
 "metadata": {
  "kernelspec": {
   "display_name": "Python 3 (ipykernel)",
   "language": "python",
   "name": "python3"
  },
  "language_info": {
   "codemirror_mode": {
    "name": "ipython",
    "version": 3
   },
   "file_extension": ".py",
   "mimetype": "text/x-python",
   "name": "python",
   "nbconvert_exporter": "python",
   "pygments_lexer": "ipython3",
   "version": "3.11.5"
  }
 },
 "nbformat": 4,
 "nbformat_minor": 5
}
