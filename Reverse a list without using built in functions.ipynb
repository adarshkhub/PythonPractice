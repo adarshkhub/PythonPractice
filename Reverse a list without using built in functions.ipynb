{
 "cells": [
  {
   "cell_type": "code",
   "execution_count": 2,
   "id": "cd1f9dd0",
   "metadata": {},
   "outputs": [
    {
     "name": "stdout",
     "output_type": "stream",
     "text": [
      "[235]\n",
      "[235, 9]\n",
      "[235, 9, 8]\n",
      "[235, 9, 8, 7]\n",
      "[235, 9, 8, 7, 6]\n",
      "[235, 9, 8, 7, 6, 5]\n",
      "[235, 9, 8, 7, 6, 5, 4]\n",
      "[235, 9, 8, 7, 6, 5, 4, 3]\n",
      "[235, 9, 8, 7, 6, 5, 4, 3, 1]\n"
     ]
    }
   ],
   "source": [
    "list1 = [1,3,4,5,6,7,8,9,235]\n",
    "list2 = []\n",
    "\n",
    "for i in range(len(list1)-1,-1,-1):\n",
    "    list2.append(list1[i])\n",
    "    print(list2)"
   ]
  },
  {
   "cell_type": "code",
   "execution_count": null,
   "id": "f0f19465",
   "metadata": {},
   "outputs": [],
   "source": []
  }
 ],
 "metadata": {
  "kernelspec": {
   "display_name": "Python 3 (ipykernel)",
   "language": "python",
   "name": "python3"
  },
  "language_info": {
   "codemirror_mode": {
    "name": "ipython",
    "version": 3
   },
   "file_extension": ".py",
   "mimetype": "text/x-python",
   "name": "python",
   "nbconvert_exporter": "python",
   "pygments_lexer": "ipython3",
   "version": "3.11.5"
  }
 },
 "nbformat": 4,
 "nbformat_minor": 5
}
