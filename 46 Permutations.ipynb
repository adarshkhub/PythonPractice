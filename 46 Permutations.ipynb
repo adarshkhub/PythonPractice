{
 "cells": [
  {
   "cell_type": "code",
   "execution_count": null,
   "id": "5953fc01-e520-4cc0-8514-2e1efb1f4336",
   "metadata": {},
   "outputs": [],
   "source": [
    "Given an array nums of distinct integers, return all the possible permutations. You can return the answer in any order.\n",
    "\n",
    "Example 1:\n",
    "\n",
    "Input: nums = [1,2,3]\n",
    "Output: [[1,2,3],[1,3,2],[2,1,3],[2,3,1],[3,1,2],[3,2,1]]\n",
    "Example 2:\n",
    "\n",
    "Input: nums = [0,1]\n",
    "Output: [[0,1],[1,0]]\n",
    "Example 3:\n",
    "\n",
    "Input: nums = [1]\n",
    "Output: [[1]]\n",
    " \n",
    "\n",
    "Constraints:\n",
    "\n",
    "1 <= nums.length <= 6\n",
    "-10 <= nums[i] <= 10\n",
    "All the integers of nums are unique."
   ]
  },
  {
   "cell_type": "code",
   "execution_count": null,
   "id": "842e6763-fb03-4faf-8adb-59a6359420a8",
   "metadata": {},
   "outputs": [],
   "source": [
    "# Solution\n",
    "\n",
    "    def permute(self, nums):\n",
    "        def backtrack(start):\n",
    "            if start == len(nums):\n",
    "                permutations.append(nums[:])\n",
    "            else:\n",
    "                for i in range(start, len(nums)):\n",
    "                    nums[start], nums[i] = nums[i], nums[start]\n",
    "                    backtrack(start + 1)\n",
    "                    nums[start], nums[i] = nums[i], nums[start]\n",
    "\n",
    "        permutations = []\n",
    "        backtrack(0)\n",
    "        return permutations"
   ]
  }
 ],
 "metadata": {
  "kernelspec": {
   "display_name": "Python 3 (ipykernel)",
   "language": "python",
   "name": "python3"
  },
  "language_info": {
   "codemirror_mode": {
    "name": "ipython",
    "version": 3
   },
   "file_extension": ".py",
   "mimetype": "text/x-python",
   "name": "python",
   "nbconvert_exporter": "python",
   "pygments_lexer": "ipython3",
   "version": "3.12.4"
  }
 },
 "nbformat": 4,
 "nbformat_minor": 5
}
