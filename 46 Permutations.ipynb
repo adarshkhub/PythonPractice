{
 "cells": [
  {
   "cell_type": "code",
   "execution_count": null,
   "id": "5953fc01-e520-4cc0-8514-2e1efb1f4336",
   "metadata": {},
   "outputs": [],
   "source": [
    "Given an array nums of distinct integers, return all the possible permutations. You can return the answer in any order.\n",
    "\n",
    "Example 1:\n",
    "\n",
    "Input: nums = [1,2,3]\n",
    "Output: [[1,2,3],[1,3,2],[2,1,3],[2,3,1],[3,1,2],[3,2,1]]\n",
    "Example 2:\n",
    "\n",
    "Input: nums = [0,1]\n",
    "Output: [[0,1],[1,0]]\n",
    "Example 3:\n",
    "\n",
    "Input: nums = [1]\n",
    "Output: [[1]]\n",
    " \n",
    "\n",
    "Constraints:\n",
    "\n",
    "1 <= nums.length <= 6\n",
    "-10 <= nums[i] <= 10\n",
    "All the integers of nums are unique."
   ]
  },
  {
   "cell_type": "code",
   "execution_count": null,
   "id": "7d677103-d9a7-4e5e-b0bc-97f38f60436d",
   "metadata": {},
   "outputs": [],
   "source": [
    "#Mission 1 - Solve leetcode number 46 from scratch\n",
    "def permutate(nums):\n",
    "    def backtrack(start):\n",
    "        if start == len(nums):\n",
    "            permutations.append(nums[:])\n",
    "        else:\n",
    "            for i in range(start, len(nums)):\n",
    "                nums[start], nums[i] = nums[i],nums[start]\n",
    "                backtrack(start + 1)\n",
    "                nums[start], nums[i] = nums[i], nums[start]\n",
    "\n",
    "        permutations = []\n",
    "        backtrack(0)\n",
    "        return permutations\n",
    "\n"
   ]
  },
  {
   "cell_type": "code",
   "execution_count": null,
   "id": "842e6763-fb03-4faf-8adb-59a6359420a8",
   "metadata": {},
   "outputs": [],
   "source": [
    "# Solution\n",
    "\n",
    "    def permute(nums):\n",
    "        def backtrack(start):\n",
    "            if start == len(nums):\n",
    "                permutations.append(nums[:])\n",
    "            else:\n",
    "                for i in range(start, len(nums)):\n",
    "                    nums[start], nums[i] = nums[i], nums[start]\n",
    "                    backtrack(start + 1)\n",
    "                    nums[start], nums[i] = nums[i], nums[start]\n",
    "\n",
    "        permutations = []\n",
    "        backtrack(0)\n",
    "        return permutations"
   ]
  },
  {
   "cell_type": "code",
   "execution_count": null,
   "id": "a06c0fb6-490d-4c5f-ab50-3ee534f6719e",
   "metadata": {},
   "outputs": [],
   "source": [
    "#What questions do I have?\n",
    "\n",
    "#so line by line:\n",
    "\n",
    "    def permute(nums):\n",
    "# this defines our main function permute, which will take only one argument, nums.\n",
    "        def backtrack(start):\n",
    "# this is the helper function that will do recursive looping in order to find all permutations\n",
    "            if start == len(nums):\n",
    "# this is the first condition in the function, which, once the created array is the correct length, appends it to permutations\n",
    "                permutations.append(nums[:])\n",
    "#What is the else condition doing? What is the function as a whole trying to accomplish?  Is the first value of start equal to 0?              \n",
    "            else:\n",
    "                for i in range(start, len(nums)):\n",
    "                    nums[start], nums[i] = nums[i], nums[start]\n",
    "                    backtrack(start + 1)\n",
    "                    nums[start], nums[i] = nums[i], nums[start]\n",
    "\n",
    "\n",
    "        permutations = []\n",
    "        backtrack(0)\n",
    "        return permutations\n",
    "\n"
   ]
  }
 ],
 "metadata": {
  "kernelspec": {
   "display_name": "Python 3 (ipykernel)",
   "language": "python",
   "name": "python3"
  },
  "language_info": {
   "codemirror_mode": {
    "name": "ipython",
    "version": 3
   },
   "file_extension": ".py",
   "mimetype": "text/x-python",
   "name": "python",
   "nbconvert_exporter": "python",
   "pygments_lexer": "ipython3",
   "version": "3.12.4"
  }
 },
 "nbformat": 4,
 "nbformat_minor": 5
}
