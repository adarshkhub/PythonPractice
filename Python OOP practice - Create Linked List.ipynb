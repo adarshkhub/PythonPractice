{
 "cells": [
  {
   "cell_type": "code",
   "execution_count": 1,
   "id": "35660895",
   "metadata": {},
   "outputs": [],
   "source": [
    "# Definition for singly-linked list.\n",
    "# class ListNode:\n",
    "#     def __init__(self, val=0, next=None):\n",
    "#         self.val = val\n",
    "#         self.next = next\n",
    "\n",
    "\n",
    "\n",
    "class ListNode:\n",
    "    def __init__(self, val=0, next=None):\n",
    "        self.val = val\n",
    "\n",
    "    def get_data(self):\n",
    "        return self.val\n",
    "\n",
    "    def set_data(self, val):\n",
    "        self.val = val\n",
    " \n",
    "    def get_next(self):\n",
    "        return self.next\n",
    " \n",
    "    def set_next(self, next):\n",
    "        self.next = next\n",
    "\n",
    "    def get_data(self):\n",
    "        return self.val\n",
    "\n",
    "    def set_data(self, val):\n",
    "        self.val = val\n",
    " \n",
    "    def get_next(self):\n",
    "        return self.next\n",
    " \n",
    "    def set_next(self, next):\n",
    "        self.next = next"
   ]
  },
  {
   "cell_type": "code",
   "execution_count": 2,
   "id": "ef94bdd0",
   "metadata": {},
   "outputs": [],
   "source": [
    "#  1 ->2 -> 3\n",
    "\n",
    "# append\n",
    "def append(self,item):\n",
    "    current = self.head\n",
    "    while current.getNext() != None:\n",
    "        current = current.getNext()\n",
    "    current.setNext(Node(item))\n"
   ]
  },
  {
   "cell_type": "code",
   "execution_count": null,
   "id": "a0e21877",
   "metadata": {},
   "outputs": [],
   "source": []
  }
 ],
 "metadata": {
  "kernelspec": {
   "display_name": "Python 3 (ipykernel)",
   "language": "python",
   "name": "python3"
  },
  "language_info": {
   "codemirror_mode": {
    "name": "ipython",
    "version": 3
   },
   "file_extension": ".py",
   "mimetype": "text/x-python",
   "name": "python",
   "nbconvert_exporter": "python",
   "pygments_lexer": "ipython3",
   "version": "3.11.5"
  }
 },
 "nbformat": 4,
 "nbformat_minor": 5
}
