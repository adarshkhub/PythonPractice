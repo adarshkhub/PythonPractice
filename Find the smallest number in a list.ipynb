{
 "cells": [
  {
   "cell_type": "code",
   "execution_count": 3,
   "id": "002e5273",
   "metadata": {},
   "outputs": [],
   "source": [
    "#numlist = [66,53,52,51,31,13,42]\n",
    "\n",
    "\n",
    "#def smallestnumber(numlist):\n",
    "    #min=numlist[0]  \n",
    "    \n",
    "    #for i in numlist:\n",
    "        #if i < numlist[0]:\n",
    "            #min = i\n",
    "    \n",
    "    #print(min)"
   ]
  },
  {
   "cell_type": "code",
   "execution_count": 5,
   "id": "48a17100",
   "metadata": {},
   "outputs": [
    {
     "name": "stdout",
     "output_type": "stream",
     "text": [
      "42\n"
     ]
    }
   ],
   "source": [
    "#smallestnumber(numlist)"
   ]
  },
  {
   "cell_type": "code",
   "execution_count": 12,
   "id": "e13211d7",
   "metadata": {},
   "outputs": [],
   "source": [
    "numlist = [66,53,52,51,31,13,42]\n",
    "\n",
    "\n",
    "def smallestnumber(numlist):\n",
    "    min=numlist[0]  \n",
    "    size=len(numlist)\n",
    "    \n",
    "    for i in range(size):\n",
    "        if numlist[i] < min:\n",
    "            min = numlist[i]\n",
    "    \n",
    "    print(min)"
   ]
  },
  {
   "cell_type": "code",
   "execution_count": 13,
   "id": "ee815fa3",
   "metadata": {},
   "outputs": [
    {
     "name": "stdout",
     "output_type": "stream",
     "text": [
      "13\n"
     ]
    }
   ],
   "source": [
    "smallestnumber(numlist)"
   ]
  },
  {
   "cell_type": "code",
   "execution_count": null,
   "id": "612adb4c",
   "metadata": {},
   "outputs": [],
   "source": []
  }
 ],
 "metadata": {
  "kernelspec": {
   "display_name": "PythonData",
   "language": "python",
   "name": "pythondata"
  },
  "language_info": {
   "codemirror_mode": {
    "name": "ipython",
    "version": 3
   },
   "file_extension": ".py",
   "mimetype": "text/x-python",
   "name": "python",
   "nbconvert_exporter": "python",
   "pygments_lexer": "ipython3",
   "version": "3.7.13"
  }
 },
 "nbformat": 4,
 "nbformat_minor": 5
}
