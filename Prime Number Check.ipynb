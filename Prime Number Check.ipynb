{
 "cells": [
  {
   "cell_type": "code",
   "execution_count": null,
   "id": "e16eb89f",
   "metadata": {},
   "outputs": [],
   "source": [
    "# prime number is always greater than 1\n",
    "# has only 2 factors, 1 and itself\n",
    "\n",
    "num = 5\n",
    "count = 0\n",
    "\n",
    "if num>1:\n",
    "    for i in range(1,num+1):\n",
    "        if num%i == 0\n",
    "            count = count+1"
   ]
  }
 ],
 "metadata": {
  "kernelspec": {
   "display_name": "Python 3 (ipykernel)",
   "language": "python",
   "name": "python3"
  },
  "language_info": {
   "codemirror_mode": {
    "name": "ipython",
    "version": 3
   },
   "file_extension": ".py",
   "mimetype": "text/x-python",
   "name": "python",
   "nbconvert_exporter": "python",
   "pygments_lexer": "ipython3",
   "version": "3.11.5"
  }
 },
 "nbformat": 4,
 "nbformat_minor": 5
}
