{
 "cells": [
  {
   "cell_type": "code",
   "execution_count": 8,
   "id": "e16eb89f",
   "metadata": {},
   "outputs": [],
   "source": [
    "# prime number is always greater than 1\n",
    "# has only 2 factors, 1 and itself\n",
    "\n",
    "def primecheck(num):\n",
    "\n",
    "    count = 0\n",
    "\n",
    "    if num>1:\n",
    "        for i in range(1,num+1):\n",
    "            if (num%i) == 0:\n",
    "                count = count+1\n",
    "            \n",
    "    elif num==1:\n",
    "        print(\"Yes one is a prime number\")\n",
    "\n",
    "    if count == 2:\n",
    "        print(\"This is a prime number\")\n",
    "        \n",
    "    else:\n",
    "        print(\"This is not a prime number\")"
   ]
  },
  {
   "cell_type": "code",
   "execution_count": 9,
   "id": "e4e96176",
   "metadata": {},
   "outputs": [
    {
     "name": "stdout",
     "output_type": "stream",
     "text": [
      "This is not a prime number\n"
     ]
    }
   ],
   "source": [
    "primecheck(6)"
   ]
  },
  {
   "cell_type": "code",
   "execution_count": 10,
   "id": "6abd4973",
   "metadata": {},
   "outputs": [
    {
     "name": "stdout",
     "output_type": "stream",
     "text": [
      "This is a prime number\n"
     ]
    }
   ],
   "source": [
    "primecheck(3)"
   ]
  },
  {
   "cell_type": "code",
   "execution_count": null,
   "id": "b3aaf774",
   "metadata": {},
   "outputs": [],
   "source": []
  }
 ],
 "metadata": {
  "kernelspec": {
   "display_name": "Python 3 (ipykernel)",
   "language": "python",
   "name": "python3"
  },
  "language_info": {
   "codemirror_mode": {
    "name": "ipython",
    "version": 3
   },
   "file_extension": ".py",
   "mimetype": "text/x-python",
   "name": "python",
   "nbconvert_exporter": "python",
   "pygments_lexer": "ipython3",
   "version": "3.11.5"
  }
 },
 "nbformat": 4,
 "nbformat_minor": 5
}
