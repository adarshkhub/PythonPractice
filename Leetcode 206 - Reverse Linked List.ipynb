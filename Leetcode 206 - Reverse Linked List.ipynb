{
 "cells": [
  {
   "cell_type": "code",
   "execution_count": null,
   "id": "3c86843c",
   "metadata": {},
   "outputs": [],
   "source": [
    "# It's possible to do this either iteratively or recursively, try to find each solution"
   ]
  },
  {
   "cell_type": "code",
   "execution_count": 1,
   "id": "ea05ab5d",
   "metadata": {},
   "outputs": [
    {
     "ename": "NameError",
     "evalue": "name 'ListNode' is not defined",
     "output_type": "error",
     "traceback": [
      "\u001b[1;31m---------------------------------------------------------------------------\u001b[0m",
      "\u001b[1;31mNameError\u001b[0m                                 Traceback (most recent call last)",
      "Cell \u001b[1;32mIn[1], line 1\u001b[0m\n\u001b[1;32m----> 1\u001b[0m \u001b[38;5;28;01mclass\u001b[39;00m \u001b[38;5;21;01mSolution\u001b[39;00m:\n\u001b[0;32m      2\u001b[0m     \u001b[38;5;28;01mdef\u001b[39;00m \u001b[38;5;21mreverseList\u001b[39m(\u001b[38;5;28mself\u001b[39m, head: ListNode) \u001b[38;5;241m-\u001b[39m\u001b[38;5;241m>\u001b[39m ListNode:\n\u001b[0;32m      3\u001b[0m         prev, curr \u001b[38;5;241m=\u001b[39m \u001b[38;5;28;01mNone\u001b[39;00m, head\n",
      "Cell \u001b[1;32mIn[1], line 2\u001b[0m, in \u001b[0;36mSolution\u001b[1;34m()\u001b[0m\n\u001b[0;32m      1\u001b[0m \u001b[38;5;28;01mclass\u001b[39;00m \u001b[38;5;21;01mSolution\u001b[39;00m:\n\u001b[1;32m----> 2\u001b[0m     \u001b[38;5;28;01mdef\u001b[39;00m \u001b[38;5;21mreverseList\u001b[39m(\u001b[38;5;28mself\u001b[39m, head: ListNode) \u001b[38;5;241m-\u001b[39m\u001b[38;5;241m>\u001b[39m ListNode:\n\u001b[0;32m      3\u001b[0m         prev, curr \u001b[38;5;241m=\u001b[39m \u001b[38;5;28;01mNone\u001b[39;00m, head\n\u001b[0;32m      4\u001b[0m         \u001b[38;5;28;01mwhile\u001b[39;00m curr:\n",
      "\u001b[1;31mNameError\u001b[0m: name 'ListNode' is not defined"
     ]
    }
   ],
   "source": [
    "\n",
    "\n",
    "class Solution:\n",
    "    def reverseList(self, head: ListNode) -> ListNode:\n",
    "        prev, curr = None, head\n",
    "        while curr:\n",
    "            nxt = curr.next\n",
    "            curr.next = prev\n",
    "            prev = curr\n",
    "            curr = nxt\n",
    "        return prev\n",
    "            \n",
    "        "
   ]
  },
  {
   "cell_type": "code",
   "execution_count": null,
   "id": "21220c3c",
   "metadata": {},
   "outputs": [],
   "source": []
  }
 ],
 "metadata": {
  "kernelspec": {
   "display_name": "Python 3 (ipykernel)",
   "language": "python",
   "name": "python3"
  },
  "language_info": {
   "codemirror_mode": {
    "name": "ipython",
    "version": 3
   },
   "file_extension": ".py",
   "mimetype": "text/x-python",
   "name": "python",
   "nbconvert_exporter": "python",
   "pygments_lexer": "ipython3",
   "version": "3.11.5"
  }
 },
 "nbformat": 4,
 "nbformat_minor": 5
}
