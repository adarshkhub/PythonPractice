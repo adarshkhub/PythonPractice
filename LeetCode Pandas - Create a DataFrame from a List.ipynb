{
 "cells": [
  {
   "cell_type": "code",
   "execution_count": null,
   "id": "b2cc752d",
   "metadata": {},
   "outputs": [],
   "source": [
    "\n",
    "#Write a solution to create a DataFrame from a 2D list called student_data. \n",
    "#This 2D list contains the IDs and ages of some students.\n",
    "#The DataFrame should have two columns, student_id and age, and be in the same order as the original 2D list.\n",
    "#The result format is in the following example.\n",
    "\n",
    "\n",
    "Example 1:\n",
    "\n",
    "Input:\n",
    "student_data:\n",
    "[\n",
    "  [1, 15],\n",
    "  [2, 11],\n",
    "  [3, 11],\n",
    "  [4, 20]\n",
    "]\n",
    "Output:\n",
    "+------------+-----+\n",
    "| student_id | age |\n",
    "+------------+-----+\n",
    "| 1          | 15  |\n",
    "| 2          | 11  |\n",
    "| 3          | 11  |\n",
    "| 4          | 20  |\n",
    "+------------+-----+\n",
    "Explanation:\n",
    "A DataFrame was created on top of student_data, with two columns named student_id and age.\n",
    "\n"
   ]
  },
  {
   "cell_type": "code",
   "execution_count": 4,
   "id": "2d54dcf3",
   "metadata": {},
   "outputs": [
    {
     "name": "stdout",
     "output_type": "stream",
     "text": [
      "   student_id  age\n",
      "0           1   15\n",
      "1           2   11\n",
      "2           3   11\n",
      "3           4   20\n"
     ]
    }
   ],
   "source": [
    "student_data = [\n",
    "  [1, 15],\n",
    "  [2, 11],\n",
    "  [3, 11],\n",
    "  [4, 20]\n",
    "]\n",
    "\n",
    "import pandas as pd\n",
    "\n",
    "student_df = pd.DataFrame(student_data)\n",
    "\n",
    "student_df.columns = [\"student_id\", \"age\"]\n",
    "\n",
    "print(student_df)"
   ]
  },
  {
   "cell_type": "code",
   "execution_count": null,
   "id": "78c5bfd5",
   "metadata": {},
   "outputs": [],
   "source": []
  }
 ],
 "metadata": {
  "kernelspec": {
   "display_name": "Python 3 (ipykernel)",
   "language": "python",
   "name": "python3"
  },
  "language_info": {
   "codemirror_mode": {
    "name": "ipython",
    "version": 3
   },
   "file_extension": ".py",
   "mimetype": "text/x-python",
   "name": "python",
   "nbconvert_exporter": "python",
   "pygments_lexer": "ipython3",
   "version": "3.11.5"
  }
 },
 "nbformat": 4,
 "nbformat_minor": 5
}
