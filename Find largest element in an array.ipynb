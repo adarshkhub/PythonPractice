{
 "cells": [
  {
   "cell_type": "code",
   "execution_count": 1,
   "id": "a7e274db",
   "metadata": {},
   "outputs": [],
   "source": [
    "# Find the largest element in an array\n",
    "\n",
    "arr = [1,2,3,4,5,6,7,8,63]\n",
    "\n",
    "def maximum(arr):\n",
    "    max=arr[0]\n",
    "    size=len(arr)\n",
    "    \n",
    "    for i in range(size):\n",
    "        if arr[i]>max:\n",
    "            max=arr[i]\n",
    "            \n",
    "    print(max)\n",
    "    "
   ]
  },
  {
   "cell_type": "code",
   "execution_count": 2,
   "id": "1d1f2b5f",
   "metadata": {},
   "outputs": [
    {
     "name": "stdout",
     "output_type": "stream",
     "text": [
      "63\n"
     ]
    }
   ],
   "source": [
    "maximum(arr)"
   ]
  },
  {
   "cell_type": "code",
   "execution_count": null,
   "id": "598ebd34",
   "metadata": {},
   "outputs": [],
   "source": []
  }
 ],
 "metadata": {
  "kernelspec": {
   "display_name": "PythonData",
   "language": "python",
   "name": "pythondata"
  },
  "language_info": {
   "codemirror_mode": {
    "name": "ipython",
    "version": 3
   },
   "file_extension": ".py",
   "mimetype": "text/x-python",
   "name": "python",
   "nbconvert_exporter": "python",
   "pygments_lexer": "ipython3",
   "version": "3.7.13"
  }
 },
 "nbformat": 4,
 "nbformat_minor": 5
}
