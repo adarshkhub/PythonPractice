{
 "cells": [
  {
   "cell_type": "code",
   "execution_count": null,
   "id": "377d6790",
   "metadata": {},
   "outputs": [],
   "source": [
    "Easy\n",
    "Topics\n",
    "Companies\n",
    "\n",
    "In a town, there are n people labeled from 1 to n. There is a rumor that one of these people is secretly the town judge.\n",
    "\n",
    "If the town judge exists, then:\n",
    "\n",
    "    The town judge trusts nobody.\n",
    "    Everybody (except for the town judge) trusts the town judge.\n",
    "    There is exactly one person that satisfies properties 1 and 2.\n",
    "\n",
    "You are given an array trust where trust[i] = [ai, bi] representing that the person labeled ai trusts the person labeled bi. If a trust relationship does not exist in trust array, then such a trust relationship does not exist.\n",
    "\n",
    "Return the label of the town judge if the town judge exists and can be identified, or return -1 otherwise."
   ]
  },
  {
   "cell_type": "code",
   "execution_count": null,
   "id": "86d8998b",
   "metadata": {},
   "outputs": [],
   "source": [
    "n = 0\n",
    "trust[i] = [ai, bi]\n",
    "\n",
    "#Solution\n",
    "\n",
    "def findJudge(n,trust):\n",
    "    \n",
    "    \n",
    "    for srt, dst in trust:\n",
    "        outgoing[src] += 1\n",
    "        incoming[dst] -= 1\n",
    "        \n",
    "    for i in range(1, n+1):\n",
    "        if outgoing == 0 and incoming[i] == n-1:\n",
    "            return 0"
   ]
  }
 ],
 "metadata": {
  "kernelspec": {
   "display_name": "Python 3 (ipykernel)",
   "language": "python",
   "name": "python3"
  },
  "language_info": {
   "codemirror_mode": {
    "name": "ipython",
    "version": 3
   },
   "file_extension": ".py",
   "mimetype": "text/x-python",
   "name": "python",
   "nbconvert_exporter": "python",
   "pygments_lexer": "ipython3",
   "version": "3.11.5"
  }
 },
 "nbformat": 4,
 "nbformat_minor": 5
}
