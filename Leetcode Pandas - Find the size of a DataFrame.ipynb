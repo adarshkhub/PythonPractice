{
 "cells": [
  {
   "cell_type": "code",
   "execution_count": null,
   "id": "7dc696e3",
   "metadata": {},
   "outputs": [],
   "source": [
    "2878. Get the Size of a DataFrame\n",
    "Easy\n",
    "Companies\n",
    "Hint\n",
    "\n",
    "DataFrame players:\n",
    "+-------------+--------+\n",
    "| Column Name | Type   |\n",
    "+-------------+--------+\n",
    "| player_id   | int    |\n",
    "| name        | object |\n",
    "| age         | int    |\n",
    "| position    | object |\n",
    "| ...         | ...    |\n",
    "+-------------+--------+\n",
    "\n",
    "Write a solution to calculate and display the number of rows and columns of players.\n",
    "\n",
    "Return the result as an array:\n",
    "\n",
    "[number of rows, number of columns]\n",
    "\n",
    "The result format is in the following example.\n",
    "\n",
    " "
   ]
  },
  {
   "cell_type": "code",
   "execution_count": null,
   "id": "182a0459",
   "metadata": {},
   "outputs": [],
   "source": [
    "import pandas as pd\n",
    "\n",
    "def getDataframeSize(players: pd.DataFrame) -> List:\n",
    "    return [players.shape[0], players.shape[1]]"
   ]
  }
 ],
 "metadata": {
  "kernelspec": {
   "display_name": "Python 3 (ipykernel)",
   "language": "python",
   "name": "python3"
  },
  "language_info": {
   "codemirror_mode": {
    "name": "ipython",
    "version": 3
   },
   "file_extension": ".py",
   "mimetype": "text/x-python",
   "name": "python",
   "nbconvert_exporter": "python",
   "pygments_lexer": "ipython3",
   "version": "3.11.5"
  }
 },
 "nbformat": 4,
 "nbformat_minor": 5
}
