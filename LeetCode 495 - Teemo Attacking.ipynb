{
 "cells": [
  {
   "cell_type": "code",
   "execution_count": null,
   "id": "cceafadb",
   "metadata": {},
   "outputs": [],
   "source": [
    "#Our hero Teemo is attacking an enemy Ashe with poison attacks! \n",
    "#When Teemo attacks Ashe, Ashe gets poisoned for a exactly duration seconds. \n",
    "#More formally, an attack at second t will mean Ashe is poisoned during the inclusive time interval [t, t + duration - 1]. \n",
    "#If Teemo attacks again before the poison effect ends, the timer for it is reset, and the poison effect will end duration \n",
    "#seconds after the new attack.\n",
    "\n",
    "#You are given a non-decreasing integer array timeSeries, \n",
    "#where timeSeries[i] denotes that Teemo attacks Ashe at second timeSeries[i], and an integer duration.\n",
    "\n",
    "#Return the total number of seconds that Ashe is poisoned.\n",
    "\n",
    " \n",
    "\n",
    "Example 1:\n",
    "\n",
    "Input: timeSeries = [1,4], duration = 2\n",
    "Output: 4\n",
    "Explanation: Teemo's attacks on Ashe go as follows:\n",
    "- At second 1, Teemo attacks, and Ashe is poisoned for seconds 1 and 2.\n",
    "- At second 4, Teemo attacks, and Ashe is poisoned for seconds 4 and 5.\n",
    "Ashe is poisoned for seconds 1, 2, 4, and 5, which is 4 seconds in total.\n",
    "\n",
    "Example 2:\n",
    "\n",
    "Input: timeSeries = [1,2], duration = 2\n",
    "Output: 3\n",
    "Explanation: Teemo's attacks on Ashe go as follows:\n",
    "- At second 1, Teemo attacks, and Ashe is poisoned for seconds 1 and 2.\n",
    "- At second 2 however, Teemo attacks again and resets the poison timer. Ashe is poisoned for seconds 2 and 3.\n",
    "Ashe is poisoned for seconds 1, 2, and 3, which is 3 seconds in total.\n",
    "\n",
    " \n",
    "\n",
    "Constraints:\n",
    "\n",
    "    1 <= timeSeries.length <= 104\n",
    "    0 <= timeSeries[i], duration <= 107\n",
    "    timeSeries is sorted in non-decreasing order.\n",
    "\n"
   ]
  },
  {
   "cell_type": "code",
   "execution_count": null,
   "id": "f90c637e",
   "metadata": {},
   "outputs": [],
   "source": [
    "def findpoisonedduration(a,b):\n",
    "    if not timeSeries: \n",
    "        return 0\n",
    "    "
   ]
  }
 ],
 "metadata": {
  "kernelspec": {
   "display_name": "Python 3 (ipykernel)",
   "language": "python",
   "name": "python3"
  },
  "language_info": {
   "codemirror_mode": {
    "name": "ipython",
    "version": 3
   },
   "file_extension": ".py",
   "mimetype": "text/x-python",
   "name": "python",
   "nbconvert_exporter": "python",
   "pygments_lexer": "ipython3",
   "version": "3.11.5"
  }
 },
 "nbformat": 4,
 "nbformat_minor": 5
}
