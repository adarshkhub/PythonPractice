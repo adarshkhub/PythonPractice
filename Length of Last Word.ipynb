{
 "cells": [
  {
   "cell_type": "code",
   "execution_count": 20,
   "id": "937774ee",
   "metadata": {},
   "outputs": [],
   "source": [
    "def length_lastword(A):\n",
    "    arr=A.split(' ')\n",
    "    if(len(arr)==1):\n",
    "        print(len(A))\n",
    "    else:\n",
    "        print(len(arr[-1]))\n",
    "    \n",
    "    \n",
    "A = \"Sally had a seashell\"    "
   ]
  },
  {
   "cell_type": "code",
   "execution_count": 21,
   "id": "752f3799",
   "metadata": {},
   "outputs": [
    {
     "name": "stdout",
     "output_type": "stream",
     "text": [
      "8\n"
     ]
    }
   ],
   "source": [
    "length_lastword(A)"
   ]
  },
  {
   "cell_type": "code",
   "execution_count": null,
   "id": "7a5dfa91",
   "metadata": {},
   "outputs": [],
   "source": []
  }
 ],
 "metadata": {
  "kernelspec": {
   "display_name": "PythonData",
   "language": "python",
   "name": "pythondata"
  },
  "language_info": {
   "codemirror_mode": {
    "name": "ipython",
    "version": 3
   },
   "file_extension": ".py",
   "mimetype": "text/x-python",
   "name": "python",
   "nbconvert_exporter": "python",
   "pygments_lexer": "ipython3",
   "version": "3.7.13"
  }
 },
 "nbformat": 4,
 "nbformat_minor": 5
}
