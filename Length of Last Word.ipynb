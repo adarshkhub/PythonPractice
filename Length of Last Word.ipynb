{
 "cells": [
  {
   "cell_type": "code",
   "execution_count": null,
   "id": "23924d9f",
   "metadata": {},
   "outputs": [],
   "source": [
    "# Given a string s consisting of some words separated by some number of spaces, \n",
    "#return the length of the last word in the string.\n",
    "\n",
    "\n",
    "s = \"Hello World        \"\n",
    "i = len(s) - 1\n",
    "j = 0\n",
    "\n",
    "\n",
    "\n",
    "\n",
    "\n",
    "while s[i] == \" \":\n",
    "    i-=1\n",
    "\n",
    "while i >= 0 and s[i] != \" \":\n",
    "    j+=1\n",
    "    \n",
    "print(j)"
   ]
  },
  {
   "cell_type": "code",
   "execution_count": null,
   "id": "7601fdcc",
   "metadata": {},
   "outputs": [],
   "source": [
    "\"\""
   ]
  }
 ],
 "metadata": {
  "kernelspec": {
   "display_name": "Python 3 (ipykernel)",
   "language": "python",
   "name": "python3"
  },
  "language_info": {
   "codemirror_mode": {
    "name": "ipython",
    "version": 3
   },
   "file_extension": ".py",
   "mimetype": "text/x-python",
   "name": "python",
   "nbconvert_exporter": "python",
   "pygments_lexer": "ipython3",
   "version": "3.11.5"
  }
 },
 "nbformat": 4,
 "nbformat_minor": 5
}
