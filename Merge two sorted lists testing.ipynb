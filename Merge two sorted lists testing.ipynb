{
 "cells": [
  {
   "cell_type": "code",
   "execution_count": 6,
   "id": "9897af58",
   "metadata": {},
   "outputs": [],
   "source": [
    "\n",
    "\n",
    "#Input: list1 = [1,2,4,6], list2 = [1,3,5,7]\n",
    "#Output: [1,1,2,3,4,4]\n",
    "\n",
    "#Example 2:\n",
    "\n",
    "#Input: list1 = [], list2 = []\n",
    "#Output: []\n",
    "\n",
    "#Example 3:\n",
    "\n",
    "#Input: list1 = [], list2 = [0]\n",
    "#Output: [0]\n",
    "\n",
    "\n",
    "L1 = [1,3,5]\n",
    "L2 = [2,4,6]\n",
    "\n",
    "\n",
    "#def mergelinkedlists(L1,L2):\n",
    "    #merged = [0]\n",
    "    #while L1 and L2:\n",
    "        #for i in L1 or L2:\n",
    "            #if L1[i] > L2[i]:\n",
    "                #curr.next = L2[i]\n",
    "                #L2[i] += 1\n",
    "                #curr = curr.next\n",
    "            #else:\n",
    "                #curr.next = L1\n",
    "                #L1 = L1.next\n",
    "            #curr = curr.next\n",
    "        #if not L1:\n",
    "            #curr.next = L2\n",
    "        #else:\n",
    "            #curr.next = L1\n",
    "        #print(merged)"
   ]
  },
  {
   "cell_type": "code",
   "execution_count": 17,
   "id": "65403795",
   "metadata": {},
   "outputs": [
    {
     "name": "stdout",
     "output_type": "stream",
     "text": [
      "[3, 4, 4, 5, 5, 5, 7, 7, 7, 7, 7, 7]\n"
     ]
    }
   ],
   "source": [
    "L3 = [1,2,3,4,5,7]\n",
    "L4 = [2,3,4,5,6,6]\n",
    "\n",
    "L5 = []\n",
    "for i in L3:\n",
    "    for j in L4:\n",
    "        if i > j:\n",
    "            L5.append(i)\n",
    "\n",
    "print(L5)\n",
    "    "
   ]
  },
  {
   "cell_type": "code",
   "execution_count": 7,
   "id": "6636895a",
   "metadata": {},
   "outputs": [
    {
     "ename": "AttributeError",
     "evalue": "'list' object has no attribute 'next'",
     "output_type": "error",
     "traceback": [
      "\u001b[1;31m---------------------------------------------------------------------------\u001b[0m",
      "\u001b[1;31mAttributeError\u001b[0m                            Traceback (most recent call last)",
      "Cell \u001b[1;32mIn[7], line 1\u001b[0m\n\u001b[1;32m----> 1\u001b[0m mergelinkedlists(L1,L2)\n",
      "Cell \u001b[1;32mIn[6], line 28\u001b[0m, in \u001b[0;36mmergelinkedlists\u001b[1;34m(L1, L2)\u001b[0m\n\u001b[0;32m     26\u001b[0m     curr \u001b[38;5;241m=\u001b[39m curr\u001b[38;5;241m.\u001b[39mnext\n\u001b[0;32m     27\u001b[0m \u001b[38;5;28;01melse\u001b[39;00m:\n\u001b[1;32m---> 28\u001b[0m     curr\u001b[38;5;241m.\u001b[39mnext \u001b[38;5;241m=\u001b[39m L1\n\u001b[0;32m     29\u001b[0m     L1 \u001b[38;5;241m=\u001b[39m L1\u001b[38;5;241m.\u001b[39mnext\n\u001b[0;32m     30\u001b[0m curr \u001b[38;5;241m=\u001b[39m curr\u001b[38;5;241m.\u001b[39mnext\n",
      "\u001b[1;31mAttributeError\u001b[0m: 'list' object has no attribute 'next'"
     ]
    }
   ],
   "source": [
    "mergelinkedlists(L1,L2)"
   ]
  },
  {
   "cell_type": "code",
   "execution_count": null,
   "id": "0ccb791d",
   "metadata": {},
   "outputs": [],
   "source": []
  }
 ],
 "metadata": {
  "kernelspec": {
   "display_name": "Python 3 (ipykernel)",
   "language": "python",
   "name": "python3"
  },
  "language_info": {
   "codemirror_mode": {
    "name": "ipython",
    "version": 3
   },
   "file_extension": ".py",
   "mimetype": "text/x-python",
   "name": "python",
   "nbconvert_exporter": "python",
   "pygments_lexer": "ipython3",
   "version": "3.11.5"
  }
 },
 "nbformat": 4,
 "nbformat_minor": 5
}
