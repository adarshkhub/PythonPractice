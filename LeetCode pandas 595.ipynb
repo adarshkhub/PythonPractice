{
 "cells": [
  {
   "cell_type": "code",
   "execution_count": null,
   "id": "427a78e8",
   "metadata": {},
   "outputs": [],
   "source": [
    "SQL Schema\n",
    "Pandas Schema\n",
    "\n",
    "Table: World\n",
    "\n",
    "+-------------+---------+\n",
    "| Column Name | Type    |\n",
    "+-------------+---------+\n",
    "| name        | varchar |\n",
    "| continent   | varchar |\n",
    "| area        | int     |\n",
    "| population  | int     |\n",
    "| gdp         | bigint  |\n",
    "+-------------+---------+\n",
    "name is the primary key (column with unique values) for this table.\n",
    "Each row of this table gives information about the name of a country, \n",
    "the continent to which it belongs, its area, the population, and its GDP value."
   ]
  },
  {
   "cell_type": "code",
   "execution_count": null,
   "id": "99ad775b",
   "metadata": {},
   "outputs": [],
   "source": [
    "SELECT name,population,area\n",
    "FROM World\n",
    "WHERE area > 3000000 or population > 25000000;"
   ]
  }
 ],
 "metadata": {
  "kernelspec": {
   "display_name": "Python 3 (ipykernel)",
   "language": "python",
   "name": "python3"
  },
  "language_info": {
   "codemirror_mode": {
    "name": "ipython",
    "version": 3
   },
   "file_extension": ".py",
   "mimetype": "text/x-python",
   "name": "python",
   "nbconvert_exporter": "python",
   "pygments_lexer": "ipython3",
   "version": "3.11.5"
  }
 },
 "nbformat": 4,
 "nbformat_minor": 5
}
