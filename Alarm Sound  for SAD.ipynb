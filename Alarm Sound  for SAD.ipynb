{
 "cells": [
  {
   "cell_type": "code",
   "execution_count": 1,
   "id": "de5eeea1-9bf5-4258-ae93-1ec89a6766be",
   "metadata": {},
   "outputs": [
    {
     "name": "stdout",
     "output_type": "stream",
     "text": [
      "Collecting playsound\n",
      "  Using cached playsound-1.3.0-py3-none-any.whl\n",
      "Installing collected packages: playsound\n",
      "Successfully installed playsound-1.3.0\n",
      "Note: you may need to restart the kernel to use updated packages.\n"
     ]
    }
   ],
   "source": [
    "!pip install playsound\n"
   ]
  },
  {
   "cell_type": "code",
   "execution_count": 1,
   "id": "61418d39-c719-4f93-a667-e86ed08cbca5",
   "metadata": {},
   "outputs": [],
   "source": [
    "from playsound import playsound  # Import the playsound module\n",
    "import threading  # To ensure sound plays without blocking the rest of the code"
   ]
  },
  {
   "cell_type": "code",
   "execution_count": 19,
   "id": "17cd69dc-02c0-47b3-b16d-482a60208026",
   "metadata": {},
   "outputs": [],
   "source": [
    "def play_alarm_sound():\n",
    "        playsound(\"C:/Users/adars/Downloads/digital-alarm-clock-151920.mp3\")  # Specify your alarm file path\n",
    "\n"
   ]
  },
  {
   "cell_type": "code",
   "execution_count": 21,
   "id": "1f4aa415-bd59-41ee-9c1b-fc281ef59af8",
   "metadata": {},
   "outputs": [
    {
     "name": "stderr",
     "output_type": "stream",
     "text": [
      "\n",
      "    Error 263 for command:\n",
      "        open C:/Users/adars/Downloads/digital-alarm-clock-151920.mp3\n",
      "    The specified device is not open or is not recognized by MCI.\n",
      "\n",
      "    Error 263 for command:\n",
      "        close C:/Users/adars/Downloads/digital-alarm-clock-151920.mp3\n",
      "    The specified device is not open or is not recognized by MCI.\n",
      "Failed to close the file: C:/Users/adars/Downloads/digital-alarm-clock-151920.mp3\n"
     ]
    },
    {
     "ename": "PlaysoundException",
     "evalue": "\n    Error 263 for command:\n        open C:/Users/adars/Downloads/digital-alarm-clock-151920.mp3\n    The specified device is not open or is not recognized by MCI.",
     "output_type": "error",
     "traceback": [
      "\u001b[1;31m---------------------------------------------------------------------------\u001b[0m",
      "\u001b[1;31mPlaysoundException\u001b[0m                        Traceback (most recent call last)",
      "Cell \u001b[1;32mIn[21], line 1\u001b[0m\n\u001b[1;32m----> 1\u001b[0m play_alarm_sound()\n",
      "Cell \u001b[1;32mIn[19], line 2\u001b[0m, in \u001b[0;36mplay_alarm_sound\u001b[1;34m()\u001b[0m\n\u001b[0;32m      1\u001b[0m \u001b[38;5;28;01mdef\u001b[39;00m \u001b[38;5;21mplay_alarm_sound\u001b[39m():\n\u001b[1;32m----> 2\u001b[0m         playsound(\u001b[38;5;124m\"\u001b[39m\u001b[38;5;124mC:/Users/adars/Downloads/digital-alarm-clock-151920.mp3\u001b[39m\u001b[38;5;124m\"\u001b[39m)\n",
      "File \u001b[1;32m~\\anaconda3\\Lib\\site-packages\\playsound.py:72\u001b[0m, in \u001b[0;36m_playsoundWin\u001b[1;34m(sound, block)\u001b[0m\n\u001b[0;32m     70\u001b[0m \u001b[38;5;28;01mtry\u001b[39;00m:\n\u001b[0;32m     71\u001b[0m     logger\u001b[38;5;241m.\u001b[39mdebug(\u001b[38;5;124m'\u001b[39m\u001b[38;5;124mStarting\u001b[39m\u001b[38;5;124m'\u001b[39m)\n\u001b[1;32m---> 72\u001b[0m     winCommand(\u001b[38;5;124mu\u001b[39m\u001b[38;5;124m'\u001b[39m\u001b[38;5;124mopen \u001b[39m\u001b[38;5;132;01m{}\u001b[39;00m\u001b[38;5;124m'\u001b[39m\u001b[38;5;241m.\u001b[39mformat(sound))\n\u001b[0;32m     73\u001b[0m     winCommand(\u001b[38;5;124mu\u001b[39m\u001b[38;5;124m'\u001b[39m\u001b[38;5;124mplay \u001b[39m\u001b[38;5;132;01m{}\u001b[39;00m\u001b[38;5;132;01m{}\u001b[39;00m\u001b[38;5;124m'\u001b[39m\u001b[38;5;241m.\u001b[39mformat(sound, \u001b[38;5;124m'\u001b[39m\u001b[38;5;124m wait\u001b[39m\u001b[38;5;124m'\u001b[39m \u001b[38;5;28;01mif\u001b[39;00m block \u001b[38;5;28;01melse\u001b[39;00m \u001b[38;5;124m'\u001b[39m\u001b[38;5;124m'\u001b[39m))\n\u001b[0;32m     74\u001b[0m     logger\u001b[38;5;241m.\u001b[39mdebug(\u001b[38;5;124m'\u001b[39m\u001b[38;5;124mReturning\u001b[39m\u001b[38;5;124m'\u001b[39m)\n",
      "File \u001b[1;32m~\\anaconda3\\Lib\\site-packages\\playsound.py:64\u001b[0m, in \u001b[0;36m_playsoundWin.<locals>.winCommand\u001b[1;34m(*command)\u001b[0m\n\u001b[0;32m     60\u001b[0m     exceptionMessage \u001b[38;5;241m=\u001b[39m (\u001b[38;5;124m'\u001b[39m\u001b[38;5;130;01m\\n\u001b[39;00m\u001b[38;5;124m    Error \u001b[39m\u001b[38;5;124m'\u001b[39m \u001b[38;5;241m+\u001b[39m \u001b[38;5;28mstr\u001b[39m(errorCode) \u001b[38;5;241m+\u001b[39m \u001b[38;5;124m'\u001b[39m\u001b[38;5;124m for command:\u001b[39m\u001b[38;5;124m'\u001b[39m\n\u001b[0;32m     61\u001b[0m                         \u001b[38;5;124m'\u001b[39m\u001b[38;5;130;01m\\n\u001b[39;00m\u001b[38;5;124m        \u001b[39m\u001b[38;5;124m'\u001b[39m \u001b[38;5;241m+\u001b[39m command\u001b[38;5;241m.\u001b[39mdecode(\u001b[38;5;124m'\u001b[39m\u001b[38;5;124mutf-16\u001b[39m\u001b[38;5;124m'\u001b[39m) \u001b[38;5;241m+\u001b[39m\n\u001b[0;32m     62\u001b[0m                         \u001b[38;5;124m'\u001b[39m\u001b[38;5;130;01m\\n\u001b[39;00m\u001b[38;5;124m    \u001b[39m\u001b[38;5;124m'\u001b[39m \u001b[38;5;241m+\u001b[39m errorBuffer\u001b[38;5;241m.\u001b[39mraw\u001b[38;5;241m.\u001b[39mdecode(\u001b[38;5;124m'\u001b[39m\u001b[38;5;124mutf-16\u001b[39m\u001b[38;5;124m'\u001b[39m)\u001b[38;5;241m.\u001b[39mrstrip(\u001b[38;5;124m'\u001b[39m\u001b[38;5;130;01m\\0\u001b[39;00m\u001b[38;5;124m'\u001b[39m))\n\u001b[0;32m     63\u001b[0m     logger\u001b[38;5;241m.\u001b[39merror(exceptionMessage)\n\u001b[1;32m---> 64\u001b[0m     \u001b[38;5;28;01mraise\u001b[39;00m PlaysoundException(exceptionMessage)\n\u001b[0;32m     65\u001b[0m \u001b[38;5;28;01mreturn\u001b[39;00m buf\u001b[38;5;241m.\u001b[39mvalue\n",
      "\u001b[1;31mPlaysoundException\u001b[0m: \n    Error 263 for command:\n        open C:/Users/adars/Downloads/digital-alarm-clock-151920.mp3\n    The specified device is not open or is not recognized by MCI."
     ]
    }
   ],
   "source": [
    "play_alarm_sound()"
   ]
  },
  {
   "cell_type": "code",
   "execution_count": 23,
   "id": "0f9b4e22-d24a-4304-9a66-47df00939047",
   "metadata": {},
   "outputs": [
    {
     "name": "stdout",
     "output_type": "stream",
     "text": [
      "C:/Users/adars/Downloads/digital-alarm-clock-151920.mp3\n"
     ]
    }
   ],
   "source": [
    "print(\"C:/Users/adars/Downloads/digital-alarm-clock-151920.mp3\")"
   ]
  },
  {
   "cell_type": "code",
   "execution_count": 25,
   "id": "38f3b145-5d7a-44db-8987-2f30142fcc76",
   "metadata": {},
   "outputs": [
    {
     "name": "stdout",
     "output_type": "stream",
     "text": [
      "Collecting simpleaudio\n",
      "  Downloading simpleaudio-1.0.4.tar.gz (2.0 MB)\n",
      "     ---------------------------------------- 0.0/2.0 MB ? eta -:--:--\n",
      "     ---------------------------------------- 0.0/2.0 MB ? eta -:--:--\n",
      "      --------------------------------------- 0.0/2.0 MB 393.8 kB/s eta 0:00:06\n",
      "     ---- ----------------------------------- 0.2/2.0 MB 1.9 MB/s eta 0:00:01\n",
      "     ------------ --------------------------- 0.6/2.0 MB 3.5 MB/s eta 0:00:01\n",
      "     -------------------- ------------------- 1.0/2.0 MB 4.7 MB/s eta 0:00:01\n",
      "     --------------------------- ------------ 1.4/2.0 MB 5.3 MB/s eta 0:00:01\n",
      "     ------------------------------------ --- 1.8/2.0 MB 5.9 MB/s eta 0:00:01\n",
      "     ---------------------------------------- 2.0/2.0 MB 5.9 MB/s eta 0:00:00\n",
      "  Preparing metadata (setup.py): started\n",
      "  Preparing metadata (setup.py): finished with status 'done'\n",
      "Building wheels for collected packages: simpleaudio\n",
      "  Building wheel for simpleaudio (setup.py): started\n",
      "  Building wheel for simpleaudio (setup.py): finished with status 'error'\n",
      "  Running setup.py clean for simpleaudio\n",
      "Failed to build simpleaudio\n"
     ]
    },
    {
     "name": "stderr",
     "output_type": "stream",
     "text": [
      "  error: subprocess-exited-with-error\n",
      "  \n",
      "  python setup.py bdist_wheel did not run successfully.\n",
      "  exit code: 1\n",
      "  \n",
      "  [18 lines of output]\n",
      "  running bdist_wheel\n",
      "  running build\n",
      "  running build_py\n",
      "  creating build\n",
      "  creating build\\lib.win-amd64-cpython-312\n",
      "  creating build\\lib.win-amd64-cpython-312\\simpleaudio\n",
      "  copying simpleaudio\\__init__.py -> build\\lib.win-amd64-cpython-312\\simpleaudio\n",
      "  copying simpleaudio\\shiny.py -> build\\lib.win-amd64-cpython-312\\simpleaudio\n",
      "  copying simpleaudio\\functionchecks.py -> build\\lib.win-amd64-cpython-312\\simpleaudio\n",
      "  creating build\\lib.win-amd64-cpython-312\\simpleaudio\\test_audio\n",
      "  copying simpleaudio\\test_audio\\c.wav -> build\\lib.win-amd64-cpython-312\\simpleaudio\\test_audio\n",
      "  copying simpleaudio\\test_audio\\e.wav -> build\\lib.win-amd64-cpython-312\\simpleaudio\\test_audio\n",
      "  copying simpleaudio\\test_audio\\g.wav -> build\\lib.win-amd64-cpython-312\\simpleaudio\\test_audio\n",
      "  copying simpleaudio\\test_audio\\left_right.wav -> build\\lib.win-amd64-cpython-312\\simpleaudio\\test_audio\n",
      "  copying simpleaudio\\test_audio\\notes_2_16_44.wav -> build\\lib.win-amd64-cpython-312\\simpleaudio\\test_audio\n",
      "  running build_ext\n",
      "  building 'simpleaudio._simpleaudio' extension\n",
      "  error: Microsoft Visual C++ 14.0 or greater is required. Get it with \"Microsoft C++ Build Tools\": https://visualstudio.microsoft.com/visual-cpp-build-tools/\n",
      "  [end of output]\n",
      "  \n",
      "  note: This error originates from a subprocess, and is likely not a problem with pip.\n",
      "  ERROR: Failed building wheel for simpleaudio\n",
      "ERROR: Could not build wheels for simpleaudio, which is required to install pyproject.toml-based projects\n"
     ]
    },
    {
     "name": "stdout",
     "output_type": "stream",
     "text": [
      "Collecting pygame\n",
      "  Downloading pygame-2.6.1-cp312-cp312-win_amd64.whl.metadata (13 kB)\n",
      "Downloading pygame-2.6.1-cp312-cp312-win_amd64.whl (10.6 MB)\n",
      "   ---------------------------------------- 0.0/10.6 MB ? eta -:--:--\n",
      "   ---------------------------------------- 0.0/10.6 MB ? eta -:--:--\n",
      "   ---------------------------------------- 0.1/10.6 MB 1.1 MB/s eta 0:00:10\n",
      "   - -------------------------------------- 0.5/10.6 MB 4.3 MB/s eta 0:00:03\n",
      "   --- ------------------------------------ 1.0/10.6 MB 6.1 MB/s eta 0:00:02\n",
      "   ----- ---------------------------------- 1.5/10.6 MB 7.4 MB/s eta 0:00:02\n",
      "   ------- -------------------------------- 2.0/10.6 MB 8.1 MB/s eta 0:00:02\n",
      "   --------- ------------------------------ 2.5/10.6 MB 8.3 MB/s eta 0:00:01\n",
      "   ----------- ---------------------------- 3.0/10.6 MB 8.6 MB/s eta 0:00:01\n",
      "   ------------ --------------------------- 3.3/10.6 MB 8.5 MB/s eta 0:00:01\n",
      "   -------------- ------------------------- 3.9/10.6 MB 8.8 MB/s eta 0:00:01\n",
      "   ---------------- ----------------------- 4.3/10.6 MB 8.8 MB/s eta 0:00:01\n",
      "   ----------------- ---------------------- 4.8/10.6 MB 9.0 MB/s eta 0:00:01\n",
      "   ------------------- -------------------- 5.3/10.6 MB 9.1 MB/s eta 0:00:01\n",
      "   --------------------- ------------------ 5.7/10.6 MB 9.4 MB/s eta 0:00:01\n",
      "   ----------------------- ---------------- 6.2/10.6 MB 9.4 MB/s eta 0:00:01\n",
      "   ------------------------- -------------- 6.7/10.6 MB 9.4 MB/s eta 0:00:01\n",
      "   --------------------------- ------------ 7.2/10.6 MB 9.4 MB/s eta 0:00:01\n",
      "   ---------------------------- ----------- 7.7/10.6 MB 9.4 MB/s eta 0:00:01\n",
      "   ------------------------------ --------- 8.2/10.6 MB 9.5 MB/s eta 0:00:01\n",
      "   -------------------------------- ------- 8.6/10.6 MB 9.5 MB/s eta 0:00:01\n",
      "   ---------------------------------- ----- 9.1/10.6 MB 9.7 MB/s eta 0:00:01\n",
      "   ------------------------------------ --- 9.6/10.6 MB 9.6 MB/s eta 0:00:01\n",
      "   ------------------------------------- -- 10.1/10.6 MB 9.6 MB/s eta 0:00:01\n",
      "   ---------------------------------------  10.6/10.6 MB 10.4 MB/s eta 0:00:01\n",
      "   ---------------------------------------- 10.6/10.6 MB 10.1 MB/s eta 0:00:00\n",
      "Installing collected packages: pygame\n",
      "Successfully installed pygame-2.6.1\n"
     ]
    }
   ],
   "source": [
    "!pip install simpleaudio # failed to install test pygame first\n",
    "!pip install pygame"
   ]
  },
  {
   "cell_type": "code",
   "execution_count": 13,
   "id": "d7d7f3a8-6d87-4c34-86d5-db27cb81b5ae",
   "metadata": {},
   "outputs": [],
   "source": [
    "import pygame\n",
    "import time\n",
    "\n",
    "#write it as a function\n",
    "# Initialize the pygame mixer (used for sound)\n",
    "pygame.mixer.init()\n",
    "\n",
    "# Load the .wav file\n",
    "alarm_sound = pygame.mixer.Sound(\"C:/Users/adars/Downloads/alarmsound.wav\")\n",
    "\n",
    "# Play the sound\n",
    "# alarm_sound.play()\n",
    "\n",
    "#play sound only when weapon is detected\n",
    "def play_alarm_sound():\n",
    "    if current_weapon_status == \"Weapon Detected\":\n",
    "        alarm_sound.play()\n"
   ]
  },
  {
   "cell_type": "code",
   "execution_count": 15,
   "id": "91aa3a5a-0cc6-4ade-a915-4ced9aa5e16a",
   "metadata": {},
   "outputs": [
    {
     "data": {
      "text/plain": [
       "<pygame.mixer.Channel at 0x28d24c71b30>"
      ]
     },
     "execution_count": 15,
     "metadata": {},
     "output_type": "execute_result"
    }
   ],
   "source": [
    "alarm_sound.play()"
   ]
  },
  {
   "cell_type": "code",
   "execution_count": null,
   "id": "6f7f2fab-595d-4f73-9128-7abb20b3a45b",
   "metadata": {},
   "outputs": [],
   "source": [
    "current_weapon_status = \"No Weapon Detected\"  # New variable for weapon detection\n"
   ]
  }
 ],
 "metadata": {
  "kernelspec": {
   "display_name": "Python 3 (ipykernel)",
   "language": "python",
   "name": "python3"
  },
  "language_info": {
   "codemirror_mode": {
    "name": "ipython",
    "version": 3
   },
   "file_extension": ".py",
   "mimetype": "text/x-python",
   "name": "python",
   "nbconvert_exporter": "python",
   "pygments_lexer": "ipython3",
   "version": "3.12.4"
  }
 },
 "nbformat": 4,
 "nbformat_minor": 5
}
