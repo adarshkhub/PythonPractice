{
 "cells": [
  {
   "cell_type": "code",
   "execution_count": null,
   "id": "f5d68bfb-3679-4368-b546-c5c6dc26ae60",
   "metadata": {},
   "outputs": [],
   "source": [
    "Given an integer num, repeatedly add all its digits until the result has only one digit, and return it.\n",
    "\n",
    " \n",
    "\n",
    "Example 1:\n",
    "\n",
    "Input: num = 38\n",
    "Output: 2\n",
    "Explanation: The process is\n",
    "38 --> 3 + 8 --> 11\n",
    "11 --> 1 + 1 --> 2 \n",
    "Since 2 has only one digit, return it.\n",
    "Example 2:\n",
    "\n",
    "Input: num = 0\n",
    "Output: 0"
   ]
  },
  {
   "cell_type": "code",
   "execution_count": null,
   "id": "fc883b21-c3a6-4723-9da4-bbcfeb50a2b9",
   "metadata": {},
   "outputs": [],
   "source": [
    "def num():\n",
    "    "
   ]
  },
  {
   "cell_type": "code",
   "execution_count": null,
   "id": "5fb877aa-8d0b-495c-b7da-79f060b652f4",
   "metadata": {},
   "outputs": [],
   "source": [
    "x=254\n",
    "\n",
    "for i in x:\n",
    "\n",
    "#if only 1 number, return the number\n",
    "#split  number into list\n",
    "#  if more than one number\n",
    "\n",
    "store = 0"
   ]
  },
  {
   "cell_type": "code",
   "execution_count": 2,
   "id": "b56624ca-5d00-4753-9c28-f1096df21458",
   "metadata": {},
   "outputs": [],
   "source": [
    "def papsy(x):\n",
    "\n",
    "    while x > 0:\n",
    "        x = x - 1\n",
    "        print(x)\n",
    "    if x == 0:\n",
    "        print(\"complete\")\n"
   ]
  },
  {
   "cell_type": "code",
   "execution_count": 3,
   "id": "a30e5701-57b7-44ff-86ce-5dd809390986",
   "metadata": {},
   "outputs": [
    {
     "name": "stdout",
     "output_type": "stream",
     "text": [
      "5\n",
      "4\n",
      "3\n",
      "2\n",
      "1\n",
      "0\n",
      "complete\n"
     ]
    }
   ],
   "source": [
    "papsy(6)"
   ]
  },
  {
   "cell_type": "code",
   "execution_count": null,
   "id": "d7ad49c5-b554-4a53-950a-4a5f94aff3ae",
   "metadata": {},
   "outputs": [],
   "source": []
  }
 ],
 "metadata": {
  "kernelspec": {
   "display_name": "Python 3 (ipykernel)",
   "language": "python",
   "name": "python3"
  },
  "language_info": {
   "codemirror_mode": {
    "name": "ipython",
    "version": 3
   },
   "file_extension": ".py",
   "mimetype": "text/x-python",
   "name": "python",
   "nbconvert_exporter": "python",
   "pygments_lexer": "ipython3",
   "version": "3.12.4"
  }
 },
 "nbformat": 4,
 "nbformat_minor": 5
}
