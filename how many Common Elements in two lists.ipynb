{
 "cells": [
  {
   "cell_type": "code",
   "execution_count": 4,
   "id": "2e91ac69",
   "metadata": {},
   "outputs": [],
   "source": [
    "#example lists\n",
    "\n",
    "l1 = [10,23,25,26,27,39,50,63]\n",
    "l2 = [31,33,37,38,63,356,2367,7]\n",
    "\n",
    "\n",
    "def comelement(l1,l2):\n",
    "    common = []\n",
    "    count = 0\n",
    "    \n",
    "    for i in l1:\n",
    "        for j in l2:\n",
    "            if i == j:\n",
    "                common.append(i)\n",
    "                count = count+1\n",
    "    print(\"common elements in both lists is\", count)"
   ]
  },
  {
   "cell_type": "code",
   "execution_count": 5,
   "id": "780a7013",
   "metadata": {},
   "outputs": [
    {
     "name": "stdout",
     "output_type": "stream",
     "text": [
      "common elements in both lists is 1\n"
     ]
    }
   ],
   "source": [
    "comelement(l1,l2)"
   ]
  },
  {
   "cell_type": "code",
   "execution_count": null,
   "id": "d7d7de74",
   "metadata": {},
   "outputs": [],
   "source": []
  }
 ],
 "metadata": {
  "kernelspec": {
   "display_name": "Python 3 (ipykernel)",
   "language": "python",
   "name": "python3"
  },
  "language_info": {
   "codemirror_mode": {
    "name": "ipython",
    "version": 3
   },
   "file_extension": ".py",
   "mimetype": "text/x-python",
   "name": "python",
   "nbconvert_exporter": "python",
   "pygments_lexer": "ipython3",
   "version": "3.11.5"
  }
 },
 "nbformat": 4,
 "nbformat_minor": 5
}
