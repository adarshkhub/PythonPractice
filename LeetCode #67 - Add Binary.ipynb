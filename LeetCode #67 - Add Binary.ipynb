{
 "cells": [
  {
   "cell_type": "code",
   "execution_count": null,
   "id": "5fbee720",
   "metadata": {},
   "outputs": [],
   "source": [
    "Given two binary strings a and b, return their sum as a binary string.\n",
    "\n",
    " \n",
    "\n",
    "Example 1:\n",
    "\n",
    "Input: a = \"11\", b = \"1\"\n",
    "Output: \"100\"\n",
    "\n",
    "Example 2:\n",
    "\n",
    "Input: a = \"1010\", b = \"1011\"\n",
    "Output: \"10101\"\n"
   ]
  },
  {
   "cell_type": "code",
   "execution_count": 2,
   "id": "e92f6303",
   "metadata": {},
   "outputs": [],
   "source": [
    "def addBinary(a,b):\n",
    "    res = \"\"\n",
    "    carry = 0\n",
    "    a,b = a[::-1], b[::-1]\n",
    "    for i in range(max(len(a),len(b))): \n",
    "        digitA = ord(a[i]) - ord(\"0\") if i < len(a) else 0\n",
    "        digitB = ord(b[i]) - ord(\"0\") if i < len(b) else 0\n",
    "        \n",
    "        total = digitA + digitB + carry\n",
    "        char = str(total %2)\n",
    "        res = char + res\n",
    "        carry = total // 2\n",
    "        \n",
    "        if carry:\n",
    "            res = \"1\" + res\n",
    "        return res\n",
    "    \n",
    "    "
   ]
  },
  {
   "cell_type": "code",
   "execution_count": 3,
   "id": "588f27ff",
   "metadata": {},
   "outputs": [
    {
     "data": {
      "text/plain": [
       "'10'"
      ]
     },
     "execution_count": 3,
     "metadata": {},
     "output_type": "execute_result"
    }
   ],
   "source": [
    "addBinary(\"11\",\"1\")"
   ]
  },
  {
   "cell_type": "code",
   "execution_count": null,
   "id": "411ff1a5",
   "metadata": {},
   "outputs": [],
   "source": []
  }
 ],
 "metadata": {
  "kernelspec": {
   "display_name": "Python 3 (ipykernel)",
   "language": "python",
   "name": "python3"
  },
  "language_info": {
   "codemirror_mode": {
    "name": "ipython",
    "version": 3
   },
   "file_extension": ".py",
   "mimetype": "text/x-python",
   "name": "python",
   "nbconvert_exporter": "python",
   "pygments_lexer": "ipython3",
   "version": "3.11.5"
  }
 },
 "nbformat": 4,
 "nbformat_minor": 5
}
