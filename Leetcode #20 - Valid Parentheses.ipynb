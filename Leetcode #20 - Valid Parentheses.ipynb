{
 "cells": [
  {
   "cell_type": "code",
   "execution_count": null,
   "id": "7f309c12",
   "metadata": {},
   "outputs": [],
   "source": [
    "#Given a string s containing just the characters '(', ')', '{', '}', '[' and ']', determine if the input string is valid.\n",
    "\n",
    "#An input string is valid if:\n",
    "\n",
    "    #Open brackets must be closed by the same type of brackets.\n",
    "    #Open brackets must be closed in the correct order.\n",
    "    #Every close bracket has a corresponding open bracket of the same type.\n",
    "\n",
    " \n",
    "\n",
    "#Example 1:\n",
    "\n",
    "#Input: s = \"()\"\n",
    "#Output: true\n",
    "\n",
    "#Example 2:\n",
    "\n",
    "#Input: s = \"()[]{}\"\n",
    "#Output: true\n",
    "\n",
    "#Example 3:\n",
    "\n",
    "#Input: s = \"(]\"\n",
    "#Output: false\n"
   ]
  }
 ],
 "metadata": {
  "kernelspec": {
   "display_name": "Python 3 (ipykernel)",
   "language": "python",
   "name": "python3"
  },
  "language_info": {
   "codemirror_mode": {
    "name": "ipython",
    "version": 3
   },
   "file_extension": ".py",
   "mimetype": "text/x-python",
   "name": "python",
   "nbconvert_exporter": "python",
   "pygments_lexer": "ipython3",
   "version": "3.11.5"
  }
 },
 "nbformat": 4,
 "nbformat_minor": 5
}
