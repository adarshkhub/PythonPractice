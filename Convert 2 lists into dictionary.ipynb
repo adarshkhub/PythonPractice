{
 "cells": [
  {
   "cell_type": "code",
   "execution_count": 2,
   "id": "1ac3e525",
   "metadata": {},
   "outputs": [],
   "source": [
    "#Create a function which can convert 2 lists into a dictionary\n",
    "\n",
    "#map keys to values using zip function\n",
    "\n",
    "#\n",
    "\n",
    "list1=[\"Jim\",\"John\",\"Bob\",\"Bradley\"]\n",
    "list2=[1,2,13,31]\n",
    "\n",
    "def lists_to_dic():\n",
    "    \n",
    "    keys=list1\n",
    "    values=list2\n",
    "    result=dict(zip(keys,values))\n",
    "    print(result)\n"
   ]
  },
  {
   "cell_type": "code",
   "execution_count": 3,
   "id": "2e324b49",
   "metadata": {},
   "outputs": [
    {
     "name": "stdout",
     "output_type": "stream",
     "text": [
      "{'Jim': 1, 'John': 2, 'Bob': 13, 'Bradley': 31}\n"
     ]
    }
   ],
   "source": [
    "lists_to_dic()"
   ]
  },
  {
   "cell_type": "code",
   "execution_count": null,
   "id": "de5ff6d5",
   "metadata": {},
   "outputs": [],
   "source": []
  }
 ],
 "metadata": {
  "kernelspec": {
   "display_name": "PythonData",
   "language": "python",
   "name": "pythondata"
  },
  "language_info": {
   "codemirror_mode": {
    "name": "ipython",
    "version": 3
   },
   "file_extension": ".py",
   "mimetype": "text/x-python",
   "name": "python",
   "nbconvert_exporter": "python",
   "pygments_lexer": "ipython3",
   "version": "3.7.13"
  }
 },
 "nbformat": 4,
 "nbformat_minor": 5
}
