{
 "cells": [
  {
   "cell_type": "code",
   "execution_count": 2,
   "id": "0f3fdf3a",
   "metadata": {},
   "outputs": [],
   "source": [
    "# Write a python program to count the frequency of words in a string\n",
    "\n",
    "# Sheena loves eating apple and mango. Her sister also loves eating apple and mango.\n",
    "\n",
    "\n",
    "def freq_words():\n",
    "    \n",
    "    str=input(\"Enter a string: \")\n",
    "    seplist=str.split()\n",
    "    d={}\n",
    "    \n",
    "    for i in seplist:\n",
    "        if i not in d.keys():\n",
    "            d[i]=0\n",
    "        d[i]=d[i]+1\n",
    "    print(d)\n"
   ]
  },
  {
   "cell_type": "code",
   "execution_count": 3,
   "id": "6ee2f5f3",
   "metadata": {},
   "outputs": [
    {
     "name": "stdout",
     "output_type": "stream",
     "text": [
      "Enter a string: Sheena loves eating apple and mango. Her sister also loves eating apple and mango.\n",
      "{'Sheena': 1, 'loves': 2, 'eating': 2, 'apple': 2, 'and': 2, 'mango.': 2, 'Her': 1, 'sister': 1, 'also': 1}\n"
     ]
    }
   ],
   "source": [
    "freq_words()"
   ]
  },
  {
   "cell_type": "code",
   "execution_count": null,
   "id": "c350495f",
   "metadata": {},
   "outputs": [],
   "source": []
  }
 ],
 "metadata": {
  "kernelspec": {
   "display_name": "Python 3 (ipykernel)",
   "language": "python",
   "name": "python3"
  },
  "language_info": {
   "codemirror_mode": {
    "name": "ipython",
    "version": 3
   },
   "file_extension": ".py",
   "mimetype": "text/x-python",
   "name": "python",
   "nbconvert_exporter": "python",
   "pygments_lexer": "ipython3",
   "version": "3.7.13"
  }
 },
 "nbformat": 4,
 "nbformat_minor": 5
}
