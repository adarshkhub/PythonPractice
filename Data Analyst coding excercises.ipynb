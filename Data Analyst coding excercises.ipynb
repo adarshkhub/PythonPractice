{
 "cells": [
  {
   "cell_type": "markdown",
   "id": "1ef3f345-4949-4e5a-94ec-4817f46b0a4f",
   "metadata": {},
   "source": [
    "# Splicing"
   ]
  },
  {
   "cell_type": "code",
   "execution_count": 2,
   "id": "033ce82f-e833-41c5-bab2-1b56b125fc39",
   "metadata": {},
   "outputs": [],
   "source": [
    "## Splicing and subsetting, and calling subset variables\n",
    "\n",
    "house = [[\"hallway\", 11.25],\n",
    "         [\"kitchen\", 18.0],\n",
    "         [\"living room\", 20.0],\n",
    "         [\"bedroom\", 10.75],\n",
    "         [\"bathroom\", 9.50]]"
   ]
  },
  {
   "cell_type": "code",
   "execution_count": 4,
   "id": "76e4cec7-7f14-40b8-859b-893a18541f75",
   "metadata": {},
   "outputs": [
    {
     "name": "stdout",
     "output_type": "stream",
     "text": [
      "9.5\n",
      "living room\n"
     ]
    }
   ],
   "source": [
    "print(house[-1][1])\n",
    "print(house[2][0])"
   ]
  },
  {
   "cell_type": "code",
   "execution_count": 5,
   "id": "a1aed477-da58-4239-95dc-5673ff1faed2",
   "metadata": {},
   "outputs": [],
   "source": [
    "areas = [\"hallway\", 11.25, \"kitchen\", 18.0,\n",
    "        \"chill zone\", 20.0, \"bedroom\", 10.75,\n",
    "         \"bathroom\", 10.50, \"poolhouse\", 24.5,\n",
    "         \"garage\", 15.45]"
   ]
  },
  {
   "cell_type": "code",
   "execution_count": 6,
   "id": "fa5dbb61-80e7-4db8-a70e-aac4150bf86a",
   "metadata": {},
   "outputs": [
    {
     "name": "stdout",
     "output_type": "stream",
     "text": [
      "['hallway', 11.25, 'kitchen', 18.0, 'chill zone', 20.0, 'bedroom', 10.75, 'bathroom', 10.5, 'garage', 15.45]\n"
     ]
    }
   ],
   "source": [
    "# Delete the poolhouse items from the list\n",
    "\n",
    "del(areas[-4])\n",
    "del(areas[-3])\n",
    "\n",
    "\n",
    "# Print the updated list\n",
    "print(areas)\n"
   ]
  },
  {
   "cell_type": "code",
   "execution_count": 7,
   "id": "12fbdbfe-b79a-462a-8fb0-6d9f8d1be692",
   "metadata": {},
   "outputs": [
    {
     "name": "stdout",
     "output_type": "stream",
     "text": [
      "[11.25, 18.0, 20.0, 10.75, 9.5]\n"
     ]
    }
   ],
   "source": [
    "# Create list areas\n",
    "areas = [11.25, 18.0, 20.0, 10.75, 9.50]\n",
    "\n",
    "# Change this command\n",
    "areas_copy = areas[:]\n",
    "\n",
    "# Change areas_copy\n",
    "areas_copy[0] = 5.0\n",
    "\n",
    "# Print areas\n",
    "print(areas)"
   ]
  },
  {
   "cell_type": "markdown",
   "id": "917e3808-f3e7-4158-993b-fbe98626fee4",
   "metadata": {},
   "source": [
    "# Functions\n"
   ]
  },
  {
   "cell_type": "code",
   "execution_count": 8,
   "id": "c24930cb-dfd8-4cc5-b913-e1eca9aecc8e",
   "metadata": {},
   "outputs": [
    {
     "name": "stdout",
     "output_type": "stream",
     "text": [
      "[20.0, 18.0, 11.25, 10.75, 9.5]\n"
     ]
    }
   ],
   "source": [
    "# Create lists first and second\n",
    "first = [11.25, 18.0, 20.0]\n",
    "second = [10.75, 9.50]\n",
    "\n",
    "# Paste together first and second: full\n",
    "full = first + second\n",
    "\n",
    "# Sort full in descending order: full_sorted\n",
    "full_sorted = sorted(full, reverse=True)\n",
    "\n",
    "# Print out full_sorted\n",
    "print(full_sorted)"
   ]
  },
  {
   "cell_type": "markdown",
   "id": "2cbf13d6-ab71-46c6-8f14-800b049979e6",
   "metadata": {},
   "source": [
    "# Numpy"
   ]
  },
  {
   "cell_type": "code",
   "execution_count": 3,
   "id": "3bf9f403-a0cf-41e6-89c7-414e29388951",
   "metadata": {},
   "outputs": [
    {
     "name": "stdout",
     "output_type": "stream",
     "text": [
      "<class 'numpy.ndarray'>\n"
     ]
    }
   ],
   "source": [
    "# Import the numpy package as np\n",
    "import numpy as np\n",
    "\n",
    "baseball = [180, 215, 210, 210, 188, 176, 209, 200]\n",
    "\n",
    "# Create a numpy array from baseball: np_baseball\n",
    "np_baseball = np.array(baseball)\n",
    "\n",
    "\n",
    "# Print out type of np_baseball\n",
    "\n",
    "print(type(np_baseball))\n"
   ]
  },
  {
   "cell_type": "code",
   "execution_count": 4,
   "id": "b3d9d1c7-9f64-4935-a10a-66cc7e2b7f3b",
   "metadata": {},
   "outputs": [
    {
     "name": "stdout",
     "output_type": "stream",
     "text": [
      "[4 5 2]\n"
     ]
    }
   ],
   "source": [
    "test = np.array([True, 1, 2]) + np.array([3, 4, False])\n",
    "\n",
    "print(test)"
   ]
  },
  {
   "cell_type": "code",
   "execution_count": null,
   "id": "a8cb1809-da8c-447d-baa5-6ae8f92888e0",
   "metadata": {},
   "outputs": [],
   "source": [
    "#including splicing\n",
    "# Print out the weight at index 50\n",
    "print(np_weight_lb[50])\n",
    "\n",
    "\n",
    "# Print out sub-array of np_height_in: index 100 up to and including index 110\n",
    "print(np_height_in[100:111])"
   ]
  },
  {
   "cell_type": "code",
   "execution_count": null,
   "id": "9460a76a-7c35-40e7-a897-5e63988d745c",
   "metadata": {},
   "outputs": [],
   "source": []
  }
 ],
 "metadata": {
  "kernelspec": {
   "display_name": "Python 3 (ipykernel)",
   "language": "python",
   "name": "python3"
  },
  "language_info": {
   "codemirror_mode": {
    "name": "ipython",
    "version": 3
   },
   "file_extension": ".py",
   "mimetype": "text/x-python",
   "name": "python",
   "nbconvert_exporter": "python",
   "pygments_lexer": "ipython3",
   "version": "3.12.4"
  }
 },
 "nbformat": 4,
 "nbformat_minor": 5
}
