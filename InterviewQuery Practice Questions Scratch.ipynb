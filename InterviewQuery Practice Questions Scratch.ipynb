{
 "cells": [
  {
   "cell_type": "code",
   "execution_count": 1,
   "id": "c91df265",
   "metadata": {},
   "outputs": [
    {
     "name": "stdout",
     "output_type": "stream",
     "text": [
      "n\n"
     ]
    }
   ],
   "source": [
    "# example of utilizing negative indexing\n",
    "\n",
    "string = \"this is a string\"\n",
    "\n",
    "# print the letter n from that string\n",
    "\n",
    "print(string[-2])"
   ]
  },
  {
   "cell_type": "code",
   "execution_count": 2,
   "id": "e8ee81f6",
   "metadata": {},
   "outputs": [],
   "source": [
    "#how would you find duplicate values in a dataset?\n",
    "\n",
    "import pandas as pd\n",
    "\n",
    "#example data set\n",
    "donors_df = \"C:/Users/adars/Downloads/Resources/donors2008.csv\"\n",
    "\n",
    "donor_df = pd.read_csv(donors_df)"
   ]
  },
  {
   "cell_type": "code",
   "execution_count": 3,
   "id": "132ff300",
   "metadata": {},
   "outputs": [
    {
     "data": {
      "text/html": [
       "<div>\n",
       "<style scoped>\n",
       "    .dataframe tbody tr th:only-of-type {\n",
       "        vertical-align: middle;\n",
       "    }\n",
       "\n",
       "    .dataframe tbody tr th {\n",
       "        vertical-align: top;\n",
       "    }\n",
       "\n",
       "    .dataframe thead th {\n",
       "        text-align: right;\n",
       "    }\n",
       "</style>\n",
       "<table border=\"1\" class=\"dataframe\">\n",
       "  <thead>\n",
       "    <tr style=\"text-align: right;\">\n",
       "      <th></th>\n",
       "      <th>LastName</th>\n",
       "      <th>FirstName</th>\n",
       "      <th>Employer</th>\n",
       "      <th>City</th>\n",
       "      <th>State</th>\n",
       "      <th>Zip</th>\n",
       "      <th>Amount</th>\n",
       "      <th>FIELD8</th>\n",
       "    </tr>\n",
       "  </thead>\n",
       "  <tbody>\n",
       "    <tr>\n",
       "      <th>0</th>\n",
       "      <td>Aaron</td>\n",
       "      <td>Eugene</td>\n",
       "      <td>State Department</td>\n",
       "      <td>Dulles</td>\n",
       "      <td>VA</td>\n",
       "      <td>20189</td>\n",
       "      <td>500.0</td>\n",
       "      <td>NaN</td>\n",
       "    </tr>\n",
       "    <tr>\n",
       "      <th>1</th>\n",
       "      <td>Abadi</td>\n",
       "      <td>Barbara</td>\n",
       "      <td>Abadi &amp; Co.</td>\n",
       "      <td>New York</td>\n",
       "      <td>NY</td>\n",
       "      <td>10021</td>\n",
       "      <td>200.0</td>\n",
       "      <td>NaN</td>\n",
       "    </tr>\n",
       "    <tr>\n",
       "      <th>2</th>\n",
       "      <td>Adamany</td>\n",
       "      <td>Anthony</td>\n",
       "      <td>Retired</td>\n",
       "      <td>Rockford</td>\n",
       "      <td>IL</td>\n",
       "      <td>61103</td>\n",
       "      <td>500.0</td>\n",
       "      <td>NaN</td>\n",
       "    </tr>\n",
       "    <tr>\n",
       "      <th>3</th>\n",
       "      <td>Adams</td>\n",
       "      <td>Lorraine</td>\n",
       "      <td>Self</td>\n",
       "      <td>New York</td>\n",
       "      <td>NY</td>\n",
       "      <td>10026</td>\n",
       "      <td>200.0</td>\n",
       "      <td>NaN</td>\n",
       "    </tr>\n",
       "    <tr>\n",
       "      <th>4</th>\n",
       "      <td>Adams</td>\n",
       "      <td>Marion</td>\n",
       "      <td>None</td>\n",
       "      <td>Exeter</td>\n",
       "      <td>NH</td>\n",
       "      <td>03833</td>\n",
       "      <td>100.0</td>\n",
       "      <td>NaN</td>\n",
       "    </tr>\n",
       "  </tbody>\n",
       "</table>\n",
       "</div>"
      ],
      "text/plain": [
       "  LastName FirstName          Employer      City State    Zip  Amount  FIELD8\n",
       "0    Aaron    Eugene  State Department    Dulles    VA  20189   500.0     NaN\n",
       "1    Abadi   Barbara       Abadi & Co.  New York    NY  10021   200.0     NaN\n",
       "2  Adamany   Anthony           Retired  Rockford    IL  61103   500.0     NaN\n",
       "3    Adams  Lorraine              Self  New York    NY  10026   200.0     NaN\n",
       "4    Adams    Marion              None    Exeter    NH  03833   100.0     NaN"
      ]
     },
     "execution_count": 3,
     "metadata": {},
     "output_type": "execute_result"
    }
   ],
   "source": [
    "donor_df.head()"
   ]
  },
  {
   "cell_type": "code",
   "execution_count": 4,
   "id": "132e75b8",
   "metadata": {},
   "outputs": [
    {
     "data": {
      "text/plain": [
       "0       False\n",
       "1       False\n",
       "2       False\n",
       "3       False\n",
       "4       False\n",
       "        ...  \n",
       "1771    False\n",
       "1772    False\n",
       "1773    False\n",
       "1774    False\n",
       "1775    False\n",
       "Length: 1776, dtype: bool"
      ]
     },
     "execution_count": 4,
     "metadata": {},
     "output_type": "execute_result"
    }
   ],
   "source": [
    "#function to check duplicates DataFrame.duplicated(subset=None,keep='last')\n",
    "\n",
    "donor_df.duplicated(subset=None,keep='last')"
   ]
  },
  {
   "cell_type": "code",
   "execution_count": 5,
   "id": "b767444f",
   "metadata": {},
   "outputs": [
    {
     "name": "stdout",
     "output_type": "stream",
     "text": [
      "<bound method DataFrame.duplicated of     name  age       city\n",
      "0   John   40     Bergen\n",
      "1   Mary   30       Oslo\n",
      "2   John   40  Stavanger\n",
      "3  Sally   50       Oslo\n",
      "4   Mary   30       Oslo>\n"
     ]
    }
   ],
   "source": [
    "# another example set of data\n",
    "data = {\n",
    "  \"name\": [\"John\", \"Mary\", \"John\", \"Sally\", \"Mary\"],\n",
    "  \"age\": [40, 30, 40, 50, 30],\n",
    "  \"city\": [\"Bergen\", \"Oslo\", \"Stavanger\", \"Oslo\", \"Oslo\"]\n",
    "}\n",
    "\n",
    "df = pd.DataFrame(data)\n",
    "\n",
    "print(df.duplicated)"
   ]
  },
  {
   "cell_type": "code",
   "execution_count": 15,
   "id": "c79c458e",
   "metadata": {},
   "outputs": [
    {
     "name": "stdout",
     "output_type": "stream",
     "text": [
      "4\n"
     ]
    }
   ],
   "source": [
    "# what is a lambda function\n",
    "# lambda functions are kind of like user defined functions and can allow you to more succinctly express simple functions \n",
    "#example:\n",
    "\n",
    "#Normal function:\n",
    "\n",
    "def function_name(x):\n",
    "    return x+x\n",
    "\n",
    "print(function_name(2))\n",
    "#should get 4"
   ]
  },
  {
   "cell_type": "code",
   "execution_count": 17,
   "id": "765fee6c",
   "metadata": {},
   "outputs": [],
   "source": [
    "# Now doing it using a lambda function\n",
    "a = lambda x: x+x"
   ]
  },
  {
   "cell_type": "code",
   "execution_count": 18,
   "id": "596c9fc6",
   "metadata": {},
   "outputs": [
    {
     "name": "stdout",
     "output_type": "stream",
     "text": [
      "4\n"
     ]
    }
   ],
   "source": [
    "print(a(2))"
   ]
  },
  {
   "cell_type": "code",
   "execution_count": 19,
   "id": "1c4eab2d",
   "metadata": {},
   "outputs": [
    {
     "name": "stdout",
     "output_type": "stream",
     "text": [
      "['r', 'e', 't', 'a', 'i', 'n']\n"
     ]
    }
   ],
   "source": [
    "# What is list comprehension in python\n",
    "# List comprehension is used to define and create a list based on an existing list. \n",
    "#For example, if we wanted to separate all the letters in the word “retain,” and make each letter a list item, \n",
    "#we could use list comprehension:\n",
    "\n",
    "r_letters = [letter for letter in 'retain']\n",
    "\n",
    "print(r_letters)"
   ]
  },
  {
   "cell_type": "code",
   "execution_count": 20,
   "id": "f51af49a",
   "metadata": {},
   "outputs": [
    {
     "data": {
      "text/plain": [
       "'4'"
      ]
     },
     "execution_count": 20,
     "metadata": {},
     "output_type": "execute_result"
    }
   ],
   "source": [
    "#How do you convert integers to strings?\n",
    "# str()\n",
    "\n",
    "str(4)"
   ]
  },
  {
   "cell_type": "code",
   "execution_count": 23,
   "id": "37424a76",
   "metadata": {},
   "outputs": [
    {
     "name": "stdout",
     "output_type": "stream",
     "text": [
      "<zip object at 0x000001BE28B3F7C8>\n"
     ]
    }
   ],
   "source": [
    "# Explain the zip() and enumerate() functions.\n",
    "#zip can be used to join data structures together\n",
    "a = (\"John\", \"Charles\", \"Mike\")\n",
    "b = (\"Jenny\", \"Christy\", \"Monica\")\n",
    "\n",
    "x = zip(a,b)\n",
    "\n",
    "print(x)\n"
   ]
  },
  {
   "cell_type": "code",
   "execution_count": 24,
   "id": "3c0ae534",
   "metadata": {},
   "outputs": [
    {
     "data": {
      "text/plain": [
       "<enumerate at 0x1be28b41408>"
      ]
     },
     "execution_count": 24,
     "metadata": {},
     "output_type": "execute_result"
    }
   ],
   "source": [
    "enumerate(a)"
   ]
  },
  {
   "cell_type": "code",
   "execution_count": 25,
   "id": "8baccf7e",
   "metadata": {},
   "outputs": [
    {
     "name": "stdout",
     "output_type": "stream",
     "text": [
      "<enumerate object at 0x000001BE28B41868>\n"
     ]
    }
   ],
   "source": [
    "print(enumerate(a))"
   ]
  },
  {
   "cell_type": "code",
   "execution_count": null,
   "id": "58a15057",
   "metadata": {},
   "outputs": [],
   "source": [
    "# you can use the enumerate function to change the index value"
   ]
  }
 ],
 "metadata": {
  "kernelspec": {
   "display_name": "Python 3 (ipykernel)",
   "language": "python",
   "name": "python3"
  },
  "language_info": {
   "codemirror_mode": {
    "name": "ipython",
    "version": 3
   },
   "file_extension": ".py",
   "mimetype": "text/x-python",
   "name": "python",
   "nbconvert_exporter": "python",
   "pygments_lexer": "ipython3",
   "version": "3.7.13"
  }
 },
 "nbformat": 4,
 "nbformat_minor": 5
}
