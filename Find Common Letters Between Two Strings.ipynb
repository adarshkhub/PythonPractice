{
 "cells": [
  {
   "cell_type": "code",
   "execution_count": 9,
   "id": "af1c5d16",
   "metadata": {},
   "outputs": [
    {
     "name": "stdout",
     "output_type": "stream",
     "text": [
      "Enter first string: RAINA\n",
      "Enter second string: NEENE\n",
      "{'N', 'I', 'A', 'R'}\n",
      "{'N', 'E'}\n"
     ]
    }
   ],
   "source": [
    "# Write a python program to find the common letters between two strings\n",
    "\n",
    "\n",
    "def common_letters():\n",
    "    str1 = input(\"Enter first string: \")\n",
    "    str2 = input(\"Enter second string: \")\n",
    "\n",
    "    s1 = set(str1)\n",
    "    s2 = set(str2)\n",
    "    \n",
    "    #test with print statements\n",
    "    #print(s1)\n",
    "    #print(s2)\n",
    "    \n",
    "    lst=s1 & s2\n",
    "    \n",
    "common_letters()\n",
    "\n",
    "\n",
    "\n"
   ]
  },
  {
   "cell_type": "code",
   "execution_count": 8,
   "id": "e5355cfd",
   "metadata": {},
   "outputs": [
    {
     "name": "stdout",
     "output_type": "stream",
     "text": [
      "Enter first string: RAINA\n",
      "Enter second string: NEENE\n",
      "{'N'}\n"
     ]
    }
   ],
   "source": [
    "common_letters()"
   ]
  },
  {
   "cell_type": "code",
   "execution_count": null,
   "id": "5c91dbc1",
   "metadata": {},
   "outputs": [],
   "source": []
  },
  {
   "cell_type": "code",
   "execution_count": null,
   "id": "47d74b72",
   "metadata": {},
   "outputs": [],
   "source": [
    "''"
   ]
  }
 ],
 "metadata": {
  "kernelspec": {
   "display_name": "PythonData",
   "language": "python",
   "name": "pythondata"
  },
  "language_info": {
   "codemirror_mode": {
    "name": "ipython",
    "version": 3
   },
   "file_extension": ".py",
   "mimetype": "text/x-python",
   "name": "python",
   "nbconvert_exporter": "python",
   "pygments_lexer": "ipython3",
   "version": "3.7.13"
  }
 },
 "nbformat": 4,
 "nbformat_minor": 5
}
